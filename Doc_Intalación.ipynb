{
 "cells": [
  {
   "cell_type": "markdown",
   "metadata": {},
   "source": [
    "# Instalaciones necesarias para curso de PYTHON\n",
    "\n",
    " - [GOOGLE CHROME (NAVEGADOR)](https://www.google.com/intl/es_es/chrome/)\n",
    " - [VISUAL STUDIO CODE (Editor Código)](https://code.visualstudio.com/download)\n",
    " - [PYTHON](https://www.python.org/downloads/)\n",
    " - [GIT (manejador de versiones)](https://git-scm.com/)\n",
    "\n",
    "## Otras herramientas importantes:\n",
    " - [POSTMAN](https://www.postman.com/downloads/)\n",
    " - [MONGO COMPAS](https://www.mongodb.com/try/download/compass) * Lo usaremos en el siguiente curso\n",
    " - [TABLE PLUS](https://tableplus.com/) * Lo usaremos en el siguiente curso\n",
    " - [DOCKER](https://www.docker.com/get-started/) * Lo usaremos en el siguiente curso\n",
    " \n",
    "# Documentaciones oficiales:\n",
    " - [PYTHON](https://docs.python.org/3/)\n",
    " - [POSTGRESQL](https://www.postgresql.org/docs/) \n",
    " - [MONGODB](https://www.mongodb.com/docs/) \n",
    " - [DOCKER](https://docs.docker.com/guides/get-started/) \n",
    " - [RENDER](https://docs.render.com/) * Railway dejó de ser gratis así que el proyecto final lo hice con RENDER\n",
    "\n",
    "# Bibliotecas populares:\n",
    " - [REPOSITORIO BIBLIOTECAS](https://github.com/sergiecode/bibliotecas-populares-python)\n",
    " "
   ]
  }
 ],
 "metadata": {
  "language_info": {
   "name": "python"
  }
 },
 "nbformat": 4,
 "nbformat_minor": 2
}
